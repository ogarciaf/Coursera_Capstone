{
 "cells": [
  {
   "cell_type": "markdown",
   "metadata": {},
   "source": [
    "# Segmenting and Clustering Neighborhoods in Toronto.Part 1"
   ]
  },
  {
   "cell_type": "markdown",
   "metadata": {},
   "source": [
    "#### From notebook Part1..."
   ]
  },
  {
   "cell_type": "code",
   "execution_count": 29,
   "metadata": {},
   "outputs": [
    {
     "name": "stdout",
     "output_type": "stream",
     "text": [
      "Libraries imported.\n",
      "  Postcode           Borough                     Neighbourhood\n",
      "0      M3A        North York                         Parkwoods\n",
      "1      M4A        North York                  Victoria Village\n",
      "2      M5A  Downtown Toronto         Harbourfront, Regent Park\n",
      "3      M6A        North York  Lawrence Heights, Lawrence Manor\n",
      "4      M7A      Queen's Park                      Queen's Park\n",
      "5      M9A         Etobicoke                  Islington Avenue\n",
      "6      M1B       Scarborough                    Rouge, Malvern\n",
      "7      M3B        North York                   Don Mills North\n",
      "8      M4B         East York   Woodbine Gardens, Parkview Hill\n",
      "9      M5B  Downtown Toronto          Ryerson, Garden District\n"
     ]
    },
    {
     "data": {
      "text/plain": [
       "(103, 3)"
      ]
     },
     "execution_count": 29,
     "metadata": {},
     "output_type": "execute_result"
    }
   ],
   "source": [
    "import requests\n",
    "import pandas as pd\n",
    "\n",
    "#uncomment this line on error \n",
    "#!pip install bs4\n",
    "from bs4 import BeautifulSoup\n",
    "print('Libraries imported.')\n",
    "\n",
    "website_url = requests.get('https://en.wikipedia.org/wiki/List_of_postal_codes_of_Canada:_M').text\n",
    "#convert the request\n",
    "soup = BeautifulSoup(website_url, 'html.parser')\n",
    "# the index of our table is 0\n",
    "table = soup.find_all('table')[0]\n",
    "#table to daatafrema\n",
    "df = pd.read_html(str(table), flavor='html5lib', header = 0)[0]\n",
    "#print(df.head(20))\n",
    "\n",
    "df1 = df[df.Borough != 'Not assigned']\n",
    "#print(df1.head())\n",
    "\n",
    "df2 =  df1.groupby(['Postcode','Borough'], sort=False).agg( ', '.join).reset_index()\n",
    "#print(df2.head())\n",
    "\n",
    "df2.loc[df2['Neighbourhood'] =='Not assigned' , 'Neighbourhood'] = df2['Borough']\n",
    "print(df2.head(10))\n",
    "\n",
    "df2.shape"
   ]
  },
  {
   "cell_type": "markdown",
   "metadata": {},
   "source": [
    "Now that you have built a dataframe of the postal code of each neighborhood along with the borough name and neighborhood name, in order to utilize the Foursquare location data, we need to get the latitude and the longitude coordinates of each neighborhood."
   ]
  },
  {
   "cell_type": "markdown",
   "metadata": {},
   "source": [
    "Now that you have built a dataframe of the postal code of each neighborhood along with the borough name and neighborhood name, in order to utilize the Foursquare location data, we need to get the latitude and the longitude coordinates of each neighborhood.\n",
    "\n",
    "In an older version of this course, we were leveraging the Google Maps Geocoding API to get the latitude and the longitude coordinates of each neighborhood. However, recently Google started charging for their API: http://geoawesomeness.com/developers-up-in-arms-over-google-maps-api-insane-price-hike/, so we will use the Geocoder Python package instead: https://geocoder.readthedocs.io/index.html."
   ]
  },
  {
   "cell_type": "markdown",
   "metadata": {},
   "source": [
    "The problem with this Package is you have to be persistent sometimes in order to get the geographical coordinates of a given postal code. So you can make a call to get the latitude and longitude coordinates of a given postal code and the result would be None, and then make the call again and you would get the coordinates. So, in order to make sure that you get the coordinates for all of our neighborhoods, you can run a while loop for each postal code. Taking postal code M5G as an example, your code would look something like this:"
   ]
  },
  {
   "cell_type": "code",
   "execution_count": null,
   "metadata": {},
   "outputs": [],
   "source": [
    "%matplotlib inline\n",
    "#!pip install geocoder\n",
    "import geocoder # import geocoder\n",
    "\n",
    "# initialize your variable to None\n",
    "lat_lng_coords = None\n",
    "\n",
    "\n",
    " #for index, row in df2.iterrows():\n",
    " #   print(row.Postcode)\n",
    "\n",
    "postal_code='M5G'\n",
    "# loop until you get the coordinates\n",
    "while(lat_lng_coords is None):\n",
    "  g = geocoder.google('{}, Toronto, Ontario'.format(postal_code))\n",
    "  lat_lng_coords = g.latlng\n",
    "\n",
    "latitude = lat_lng_coords[0]\n",
    "longitude = lat_lng_coords[1]"
   ]
  },
  {
   "cell_type": "markdown",
   "metadata": {},
   "source": [
    "Impossible read latitude and longitude from geocoder."
   ]
  },
  {
   "cell_type": "markdown",
   "metadata": {},
   "source": [
    "Here is a link to a csv file that has the geographical coordinates of each postal code: http://cocl.us/Geospatial_data"
   ]
  },
  {
   "cell_type": "code",
   "execution_count": null,
   "metadata": {},
   "outputs": [],
   "source": [
    "Reading csv..."
   ]
  },
  {
   "cell_type": "code",
   "execution_count": null,
   "metadata": {},
   "outputs": [],
   "source": [
    "!wget -q -O 'Toronto_long_lat_data.csv'  http://cocl.us/Geospatial_data\n",
    "df_lon_lat = pd.read_csv('Toronto_long_lat_data.csv')\n",
    "df_lon_lat.head()"
   ]
  },
  {
   "cell_type": "markdown",
   "metadata": {},
   "source": [
    "Rename the first column to allow merging dataframes on Postcode"
   ]
  },
  {
   "cell_type": "code",
   "execution_count": null,
   "metadata": {},
   "outputs": [],
   "source": [
    "df_lon_lat.columns = ['Postcode', 'Latitude', 'Longitude']\n",
    "df_lon_lat.head()"
   ]
  },
  {
   "cell_type": "code",
   "execution_count": null,
   "metadata": {},
   "outputs": [],
   "source": [
    "Toronto_df = pd.merge(df_new,\n",
    "                 df_lon_lat[['Postcode','Latitude', 'Longitude']],\n",
    "                 on='Postcode')\n",
    "Toronto_df"
   ]
  },
  {
   "cell_type": "markdown",
   "metadata": {},
   "source": [
    "Once you are able to create the above dataframe, submit a link to the new Notebook on your Github repository. (2 marks)"
   ]
  },
  {
   "cell_type": "markdown",
   "metadata": {},
   "source": [
    "# This notebook 2"
   ]
  },
  {
   "cell_type": "code",
   "execution_count": null,
   "metadata": {},
   "outputs": [],
   "source": []
  }
 ],
 "metadata": {
  "kernelspec": {
   "display_name": "Python",
   "language": "python",
   "name": "conda-env-python-py"
  },
  "language_info": {
   "codemirror_mode": {
    "name": "ipython",
    "version": 3
   },
   "file_extension": ".py",
   "mimetype": "text/x-python",
   "name": "python",
   "nbconvert_exporter": "python",
   "pygments_lexer": "ipython3",
   "version": "3.6.7"
  }
 },
 "nbformat": 4,
 "nbformat_minor": 4
}
